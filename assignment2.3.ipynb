{
 "cells": [
  {
   "cell_type": "code",
   "execution_count": 1,
   "metadata": {
    "collapsed": false
   },
   "outputs": [],
   "source": [
    "import matplotlib.pyplot as plt\n",
    "import numpy as np\n",
    "%matplotlib inline"
   ]
  },
  {
   "cell_type": "code",
   "execution_count": 2,
   "metadata": {
    "collapsed": false
   },
   "outputs": [
    {
     "name": "stdout",
     "output_type": "stream",
     "text": [
      "[[ 3 -2]\n",
      " [-4  5]]\n"
     ]
    }
   ],
   "source": [
    "a=np.array([[3,-2],[-4,5]])\n",
    "print a"
   ]
  },
  {
   "cell_type": "code",
   "execution_count": 3,
   "metadata": {
    "collapsed": false
   },
   "outputs": [
    {
     "data": {
      "text/plain": [
       "7.5824013744015142"
      ]
     },
     "execution_count": 3,
     "metadata": {},
     "output_type": "execute_result"
    }
   ],
   "source": [
    "np.linalg.cond(a)"
   ]
  },
  {
   "cell_type": "code",
   "execution_count": 4,
   "metadata": {
    "collapsed": false
   },
   "outputs": [],
   "source": [
    "N=9"
   ]
  },
  {
   "cell_type": "code",
   "execution_count": 5,
   "metadata": {
    "collapsed": false
   },
   "outputs": [
    {
     "name": "stdout",
     "output_type": "stream",
     "text": [
      "(10, 11)\n"
     ]
    }
   ],
   "source": [
    "n=N+1\n",
    "matrix=np.empty([n,n+1])\n",
    "matrix[:,:]=0\n",
    "print matrix.shape"
   ]
  },
  {
   "cell_type": "code",
   "execution_count": 25,
   "metadata": {
    "collapsed": false
   },
   "outputs": [
    {
     "name": "stdout",
     "output_type": "stream",
     "text": [
      "[[-2.  2.  0.  0.  0.  0.  0.  0.  0.  0.  0.]\n",
      " [ 1. -2.  1.  0.  0.  0.  0.  0.  0.  0.  0.]\n",
      " [ 0.  1. -2.  1.  0.  0.  0.  0.  0.  0.  0.]\n",
      " [ 0.  0.  1. -2.  1.  0.  0.  0.  0.  0.  0.]\n",
      " [ 0.  0.  0.  1. -2.  1.  0.  0.  0.  0.  0.]\n",
      " [ 0.  0.  0.  0.  1. -2.  1.  0.  0.  0.  0.]\n",
      " [ 0.  0.  0.  0.  0.  1. -2.  1.  0.  0.  0.]\n",
      " [ 0.  0.  0.  0.  0.  0.  1. -2.  1.  0.  0.]\n",
      " [ 0.  0.  0.  0.  0.  0.  0.  1. -2.  1.  0.]\n",
      " [ 1.  1.  1.  1.  1.  1.  1.  1.  1.  1.  1.]]\n",
      "64.8194654722\n"
     ]
    }
   ],
   "source": [
    "for i in range (n):\n",
    "        matrix[i,i]=-2;\n",
    "        if i!=0:\n",
    "            matrix[i,i-1]=1;\n",
    "        if i!=n-1:\n",
    "            matrix[i,i+1]=1;\n",
    "matrix[0,1]=2\n",
    "matrix[n-1,n-2]=2\n",
    "matrix[n-1,:]=1\n",
    "print matrix\n",
    "print np.linalg.cond(matrix)"
   ]
  },
  {
   "cell_type": "code",
   "execution_count": 6,
   "metadata": {
    "collapsed": false
   },
   "outputs": [
    {
     "name": "stdout",
     "output_type": "stream",
     "text": [
      "(10, 10)\n"
     ]
    }
   ],
   "source": [
    "matrix=np.empty([n,n])\n",
    "matrix[:,:]=0\n",
    "print matrix.shape"
   ]
  },
  {
   "cell_type": "code",
   "execution_count": 9,
   "metadata": {
    "collapsed": false
   },
   "outputs": [
    {
     "name": "stdout",
     "output_type": "stream",
     "text": [
      "[[-2.  2.  0.  0.  0.  0.  0.  0.  0.  0.]\n",
      " [ 1. -2.  1.  0.  0.  0.  0.  0.  0.  0.]\n",
      " [ 0.  1. -2.  1.  0.  0.  0.  0.  0.  0.]\n",
      " [ 0.  0.  1. -2.  1.  0.  0.  0.  0.  0.]\n",
      " [ 0.  0.  0.  1. -2.  1.  0.  0.  0.  0.]\n",
      " [ 0.  0.  0.  0.  1. -2.  1.  0.  0.  0.]\n",
      " [ 0.  0.  0.  0.  0.  1. -2.  1.  0.  0.]\n",
      " [ 0.  0.  0.  0.  0.  0.  1. -2.  1.  0.]\n",
      " [ 0.  0.  0.  0.  0.  0.  0.  1. -2.  1.]\n",
      " [ 0.  0.  0.  0.  0.  0.  0.  0.  2. -2.]]\n",
      "0.0\n",
      "1.65423556851e+16\n"
     ]
    }
   ],
   "source": [
    "for i in range (n):\n",
    "        matrix[i,i]=-2;\n",
    "        if i!=0:\n",
    "            matrix[i,i-1]=1;\n",
    "        if i!=n-1:\n",
    "            matrix[i,i+1]=1;\n",
    "matrix[0,1]=2\n",
    "matrix[n-1,n-2]=2\n",
    "#matrix[(n+1)/2,:]=0\n",
    "#matrix[(n+1)/2,(n+1)/2]=1\n",
    "print matrix\n",
    "print np.linalg.det(matrix)\n",
    "print np.linalg.cond(matrix)"
   ]
  },
  {
   "cell_type": "code",
   "execution_count": 49,
   "metadata": {
    "collapsed": false
   },
   "outputs": [],
   "source": [
    "#question 4\n",
    "N=9\n",
    "def Q4(N):\n",
    "    n=N+1\n",
    "    matrix=np.empty([n,n])\n",
    "    matrix[:,:]=0\n",
    "\n",
    "    k=0.05\n",
    "    r=0.003\n",
    "    d=20/N\n",
    "    for i in range (n):\n",
    "            matrix[i,i]=-2*k+r*d**2;\n",
    "            if i!=0:\n",
    "                matrix[i,i-1]=k;\n",
    "            if i!=n-1:\n",
    "                matrix[i,i+1]=k;\n",
    "    matrix[0,1]=2*k\n",
    "    matrix[n-1,n-2]=2*k\n",
    "    #print matrix.shape\n",
    "    #print matrix\n",
    "    #print np.linalg.det(matrix)\n",
    "    #print 'Cond. number:'\n",
    "    a = np.linalg.cond(matrix)\n",
    "    return a"
   ]
  },
  {
   "cell_type": "code",
   "execution_count": 46,
   "metadata": {
    "collapsed": false
   },
   "outputs": [
    {
     "name": "stdout",
     "output_type": "stream",
     "text": [
      "(10, 10)\n",
      "[[-0.088  0.1    0.     0.     0.     0.     0.     0.     0.     0.   ]\n",
      " [ 0.05  -0.088  0.05   0.     0.     0.     0.     0.     0.     0.   ]\n",
      " [ 0.     0.05  -0.088  0.05   0.     0.     0.     0.     0.     0.   ]\n",
      " [ 0.     0.     0.05  -0.088  0.05   0.     0.     0.     0.     0.   ]\n",
      " [ 0.     0.     0.     0.05  -0.088  0.05   0.     0.     0.     0.   ]\n",
      " [ 0.     0.     0.     0.     0.05  -0.088  0.05   0.     0.     0.   ]\n",
      " [ 0.     0.     0.     0.     0.     0.05  -0.088  0.05   0.     0.   ]\n",
      " [ 0.     0.     0.     0.     0.     0.     0.05  -0.088  0.05   0.   ]\n",
      " [ 0.     0.     0.     0.     0.     0.     0.     0.05  -0.088  0.05 ]\n",
      " [ 0.     0.     0.     0.     0.     0.     0.     0.     0.1   -0.088]]\n",
      "Cond. number:\n",
      "33.5446686704\n"
     ]
    }
   ],
   "source": [
    "#test function Q4:\n",
    "print Q4(9)"
   ]
  },
  {
   "cell_type": "code",
   "execution_count": 65,
   "metadata": {
    "collapsed": false
   },
   "outputs": [
    {
     "name": "stdout",
     "output_type": "stream",
     "text": [
      "Size of N   : 5\n",
      "Cond. Number: 8.04176908758\n",
      "Size of N   : 6\n",
      "Cond. Number: 13.944155473\n",
      "Size of N   : 7\n",
      "Cond. Number: 96.0005847199\n",
      "Size of N   : 8\n",
      "Cond. Number: 45.7412948618\n",
      "Size of N   : 9\n",
      "Cond. Number: 33.5446686704\n",
      "Size of N   : 10\n",
      "Cond. Number: 28.1670400589\n",
      "Size of N   : 11\n",
      "Cond. Number: 196.482384098\n",
      "Size of N   : 12\n",
      "Cond. Number: 505.525032892\n",
      "Size of N   : 13\n",
      "Cond. Number: 2182.29282828\n",
      "Size of N   : 14\n",
      "Cond. Number: 416.311556205\n"
     ]
    },
    {
     "data": {
      "image/png": "[encoded data removed]",
      "text/plain": [
       "<matplotlib.figure.Figure at 0x7fda8590bb50>"
      ]
     },
     "metadata": {},
     "output_type": "display_data"
    }
   ],
   "source": [
    "#plot\n",
    "fig = plt.figure(figsize=(10,5))\n",
    "for i in range(5,15):\n",
    "\n",
    "    ax1=plt.subplot(111)\n",
    "    ax1.scatter(i,Q4(i),color='orange',marker='^',alpha=0.8)\n",
    "    plt.xlabel('Matrix size')\n",
    "    plt.ylabel('Condition number')\n",
    "    print ('Size of N   : %s'%i)\n",
    "    print ('Cond. Number: %s'%Q4(i))\n",
    "    ax1.hold(True)\n",
    "\n",
    "ax1.grid(True)\n",
    "plt.show()"
   ]
  },
  {
   "cell_type": "code",
   "execution_count": 28,
   "metadata": {
    "collapsed": false
   },
   "outputs": [
    {
     "name": "stdout",
     "output_type": "stream",
     "text": [
      "[[-2.  1.  0.  0.  0.  0.  0.  0.  0.  0.]\n",
      " [ 1. -2.  1.  0.  0.  0.  0.  0.  0.  0.]\n",
      " [ 0.  1. -2.  1.  0.  0.  0.  0.  0.  0.]\n",
      " [ 0.  0.  1. -2.  1.  0.  0.  0.  0.  0.]\n",
      " [ 0.  0.  0.  1. -2.  1.  0.  0.  0.  0.]\n",
      " [ 0.  0.  0.  0.  1. -2.  1.  0.  0.  0.]\n",
      " [ 0.  0.  0.  0.  0.  1. -2.  1.  0.  0.]\n",
      " [ 0.  0.  0.  0.  0.  0.  1. -2.  1.  0.]\n",
      " [ 0.  0.  0.  0.  0.  0.  0.  1. -2.  1.]\n",
      " [ 0.  0.  0.  0.  0.  0.  0.  0.  1. -2.]]\n",
      "48.3741500787\n"
     ]
    }
   ],
   "source": [
    "for i in range (n):\n",
    "        matrix[i,i]=-2;\n",
    "        if i!=0:\n",
    "            matrix[i,i-1]=1;\n",
    "        if i!=n-1:\n",
    "            matrix[i,i+1]=1;\n",
    "print matrix\n",
    "print np.linalg.cond(matrix)"
   ]
  },
  {
   "cell_type": "code",
   "execution_count": 29,
   "metadata": {
    "collapsed": false
   },
   "outputs": [
    {
     "name": "stdout",
     "output_type": "stream",
     "text": [
      "[[ 0.  0.  0.  0.  0.  0.  0.  0.]\n",
      " [ 0.  0.  0.  0.  0.  0.  0.  0.]\n",
      " [ 0.  0.  0.  0.  0.  0.  0.  0.]\n",
      " [ 0.  0.  0.  0.  0.  0.  0.  0.]\n",
      " [ 0.  0.  0.  0.  0.  0.  0.  0.]\n",
      " [ 0.  0.  0.  0.  0.  0.  0.  0.]\n",
      " [ 0.  0.  0.  0.  0.  0.  0.  0.]\n",
      " [ 0.  0.  0.  0.  0.  0.  0.  0.]]\n"
     ]
    }
   ],
   "source": [
    "n=N-1\n",
    "matrix2=np.empty([n,n])\n",
    "matrix2[:,:]=0\n",
    "print matrix2"
   ]
  },
  {
   "cell_type": "code",
   "execution_count": 30,
   "metadata": {
    "collapsed": false
   },
   "outputs": [
    {
     "name": "stdout",
     "output_type": "stream",
     "text": [
      "[[ 1.  0.  0.  0.  0.  0.  0.  0.]\n",
      " [ 1. -2.  1.  0.  0.  0.  0.  0.]\n",
      " [ 0.  1. -2.  1.  0.  0.  0.  0.]\n",
      " [ 0.  0.  1. -2.  1.  0.  0.  0.]\n",
      " [ 0.  0.  0.  1. -2.  1.  0.  0.]\n",
      " [ 0.  0.  0.  0.  1. -2.  1.  0.]\n",
      " [ 0.  0.  0.  0.  0.  1. -2.  1.]\n",
      " [ 0.  0.  0.  0.  0.  0.  0.  1.]]\n",
      "20.3365261517\n"
     ]
    }
   ],
   "source": [
    "for i in range (n):\n",
    "    if i==0 or i==n-1:\n",
    "        matrix2[i,i]=1\n",
    "    else:\n",
    "        matrix2[i,i]=-2;\n",
    "        matrix2[i,i-1]=1;\n",
    "        matrix2[i,i+1]=1;\n",
    "\n",
    "print matrix2\n",
    "print np.linalg.cond(matrix2)"
   ]
  }
 ],
 "metadata": {
  "kernelspec": {
   "display_name": "Python 2",
   "language": "python",
   "name": "python2"
  },
  "language_info": {
   "codemirror_mode": {
    "name": "ipython",
    "version": 2
   },
   "file_extension": ".py",
   "mimetype": "text/x-python",
   "name": "python",
   "nbconvert_exporter": "python",
   "pygments_lexer": "ipython2",
   "version": "2.7.10"
  }
 },
 "nbformat": 4,
 "nbformat_minor": 0
}
