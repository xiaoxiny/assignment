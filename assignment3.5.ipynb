{
 "cells": [
  {
   "cell_type": "code",
   "execution_count": 16,
   "metadata": {
    "collapsed": false
   },
   "outputs": [],
   "source": [
    "import matplotlib.pyplot as plt\n",
    "import numpy as np\n",
    "%matplotlib inline"
   ]
  },
  {
   "cell_type": "code",
   "execution_count": 31,
   "metadata": {
    "collapsed": false
   },
   "outputs": [],
   "source": [
    "#question 5\n",
    "def Q5(N):\n",
    "    n=N+1\n",
    "    matrix=np.empty([n,n])\n",
    "    matrix[:,:]=0\n",
    "\n",
    "    k=0.05\n",
    "    r=0.003\n",
    "    d=20/N\n",
    "    for i in range (n):\n",
    "            matrix[i,i]=-(2*k+r*d**2);\n",
    "            if i!=0:\n",
    "                matrix[i,i-1]=k;\n",
    "            if i!=n-1:\n",
    "                matrix[i,i+1]=k;\n",
    "    matrix[0,1]=2*k\n",
    "    matrix[n-1,n-2]=2*k\n",
    "    #print np.linalg.det(matrix)\n",
    "    a = np.linalg.cond(matrix)\n",
    "    print 'Cond. number (N=%s): %s' %(N,a)\n",
    "    #return a\n",
    "    return matrix"
   ]
  },
  {
   "cell_type": "code",
   "execution_count": 28,
   "metadata": {
    "collapsed": false
   },
   "outputs": [
    {
     "name": "stdout",
     "output_type": "stream",
     "text": [
      "Cond. number (N=5): 5.3553416865\n",
      "Cond. number (N=6): 8.72006095901\n",
      "Cond. number (N=7): 18.3456869205\n",
      "Cond. number (N=8): 18.2696050435\n",
      "Cond. number (N=9): 18.2102300313\n",
      "Cond. number (N=10): 18.1628271741\n",
      "Cond. number (N=11): 69.6988913404\n",
      "Cond. number (N=12): 69.5571812036\n",
      "Cond. number (N=13): 69.4374360311\n",
      "Cond. number (N=14): 69.3351956687\n"
     ]
    },
    {
     "data": {
      "image/png": "[encoded data removed]",
      "text/plain": [
       "<matplotlib.figure.Figure at 0x7f30b50af510>"
      ]
     },
     "metadata": {},
     "output_type": "display_data"
    }
   ],
   "source": [
    "#plot\n",
    "fig = plt.figure(figsize=(10,5))\n",
    "for i in range(5,15):\n",
    "\n",
    "    ax1=plt.subplot(111)\n",
    "    ax1.scatter(i,Q5(i),color='orange',marker='^',alpha=0.8)\n",
    "    plt.xlabel('Matrix size')\n",
    "    plt.ylabel('Condition number')\n",
    "    ax1.hold(True)\n",
    "\n",
    "ax1.grid(True)\n",
    "plt.show()"
   ]
  },
  {
   "cell_type": "code",
   "execution_count": 24,
   "metadata": {
    "collapsed": true
   },
   "outputs": [],
   "source": [
    "#Question 5(c)\n",
    "When N=10, the condition number is not that high. Therefore I chose N=10 to complete the following question."
   ]
  },
  {
   "cell_type": "code",
   "execution_count": 29,
   "metadata": {
    "collapsed": false
   },
   "outputs": [
    {
     "name": "stdout",
     "output_type": "stream",
     "text": [
      "[ 0.     0.     0.     0.     0.    -0.005  0.     0.     0.     0.     0.   ]\n"
     ]
    }
   ],
   "source": [
    "N=10\n",
    "n=N+1\n",
    "RHSmatrix=np.empty([n])\n",
    "RHSmatrix[:]=0\n",
    "RHSmatrix[5]=-0.005\n",
    "print RHSmatrix"
   ]
  },
  {
   "cell_type": "code",
   "execution_count": 32,
   "metadata": {
    "collapsed": false
   },
   "outputs": [
    {
     "name": "stdout",
     "output_type": "stream",
     "text": [
      "Cond. number (N=10): 18.1628271741\n"
     ]
    },
    {
     "data": {
      "image/png": "[encoded data removed]",
      "text/plain": [
       "<matplotlib.figure.Figure at 0x7f30b537f790>"
      ]
     },
     "metadata": {},
     "output_type": "display_data"
    }
   ],
   "source": [
    "sol=np.linalg.solve(Q5(N),RHSmatrix)\n",
    "plt.plot([0,2,4,6,8,10,12,14,16,18,20],sol)\n",
    "plt.grid(True)"
   ]
  },
  {
   "cell_type": "code",
   "execution_count": 25,
   "metadata": {
    "collapsed": true
   },
   "outputs": [],
   "source": [
    "#Question 5(d)"
   ]
  },
  {
   "cell_type": "code",
   "execution_count": 55,
   "metadata": {
    "collapsed": false
   },
   "outputs": [
    {
     "name": "stdout",
     "output_type": "stream",
     "text": [
      "Cond. number:\n",
      "28.1670400589\n"
     ]
    }
   ],
   "source": [
    "print Q5(10)"
   ]
  },
  {
   "cell_type": "code",
   "execution_count": 26,
   "metadata": {
    "collapsed": true
   },
   "outputs": [],
   "source": [
    "#Question 5(e)"
   ]
  },
  {
   "cell_type": "code",
   "execution_count": 59,
   "metadata": {
    "collapsed": true
   },
   "outputs": [],
   "source": [
    "def Q4_e(N):\n",
    "    n=N+1\n",
    "    matrix=np.empty([n,n])\n",
    "    matrix[:,:]=0\n",
    "\n",
    "    k=0.05\n",
    "    r=0\n",
    "    d=20/N\n",
    "    for i in range (n):\n",
    "            matrix[i,i]=-2*k+r*d**2;\n",
    "            if i!=0:\n",
    "                matrix[i,i-1]=k;\n",
    "            if i!=n-1:\n",
    "                matrix[i,i+1]=k;\n",
    "    matrix[0,1]=2*k\n",
    "    matrix[n-1,n-2]=2*k\n",
    "    print matrix.shape\n",
    "    print matrix\n",
    "    print 'Determinant:'\n",
    "    print np.linalg.det(matrix)\n",
    "    print 'Cond. number:'\n",
    "    a = np.linalg.cond(matrix)\n",
    "    return a"
   ]
  },
  {
   "cell_type": "code",
   "execution_count": 60,
   "metadata": {
    "collapsed": false
   },
   "outputs": [
    {
     "name": "stdout",
     "output_type": "stream",
     "text": [
      "(11, 11)\n",
      "[[-0.1   0.1   0.    0.    0.    0.    0.    0.    0.    0.    0.  ]\n",
      " [ 0.05 -0.1   0.05  0.    0.    0.    0.    0.    0.    0.    0.  ]\n",
      " [ 0.    0.05 -0.1   0.05  0.    0.    0.    0.    0.    0.    0.  ]\n",
      " [ 0.    0.    0.05 -0.1   0.05  0.    0.    0.    0.    0.    0.  ]\n",
      " [ 0.    0.    0.    0.05 -0.1   0.05  0.    0.    0.    0.    0.  ]\n",
      " [ 0.    0.    0.    0.    0.05 -0.1   0.05  0.    0.    0.    0.  ]\n",
      " [ 0.    0.    0.    0.    0.    0.05 -0.1   0.05  0.    0.    0.  ]\n",
      " [ 0.    0.    0.    0.    0.    0.    0.05 -0.1   0.05  0.    0.  ]\n",
      " [ 0.    0.    0.    0.    0.    0.    0.    0.05 -0.1   0.05  0.  ]\n",
      " [ 0.    0.    0.    0.    0.    0.    0.    0.    0.05 -0.1   0.05]\n",
      " [ 0.    0.    0.    0.    0.    0.    0.    0.    0.    0.1  -0.1 ]]\n",
      "Determinant:\n",
      "0.0\n",
      "Cond. number:\n"
     ]
    },
    {
     "data": {
      "text/plain": [
       "23402706448449796.0"
      ]
     },
     "execution_count": 60,
     "metadata": {},
     "output_type": "execute_result"
    }
   ],
   "source": [
    "Q4_e(10)"
   ]
  },
  {
   "cell_type": "code",
   "execution_count": null,
   "metadata": {
    "collapsed": true
   },
   "outputs": [],
   "source": []
  }
 ],
 "metadata": {
  "kernelspec": {
   "display_name": "Python 2",
   "language": "python",
   "name": "python2"
  },
  "language_info": {
   "codemirror_mode": {
    "name": "ipython",
    "version": 2
   },
   "file_extension": ".py",
   "mimetype": "text/x-python",
   "name": "python",
   "nbconvert_exporter": "python",
   "pygments_lexer": "ipython2",
   "version": "2.7.10"
  }
 },
 "nbformat": 4,
 "nbformat_minor": 0
}
